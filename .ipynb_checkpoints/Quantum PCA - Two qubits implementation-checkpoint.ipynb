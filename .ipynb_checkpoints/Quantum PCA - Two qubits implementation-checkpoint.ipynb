{
 "cells": [
  {
   "cell_type": "code",
   "execution_count": 1,
   "metadata": {},
   "outputs": [],
   "source": [
    "import numpy as np\n",
    "from scipy.linalg import expm\n",
    "from qiskit import *"
   ]
  },
  {
   "cell_type": "code",
   "execution_count": 34,
   "metadata": {},
   "outputs": [
    {
     "name": "stdout",
     "output_type": "stream",
     "text": [
      "[[0.64067797 0.32881356]\n",
      " [0.32881356 0.35932203]]\n"
     ]
    }
   ],
   "source": [
    "sigma2 = np.array([(1.89,0.97), (0.97, 1.06)])\n",
    "rho2 = sigma2 /np.matrix.trace(sigma2)\n",
    "print(rho2)"
   ]
  },
  {
   "cell_type": "code",
   "execution_count": 38,
   "metadata": {},
   "outputs": [
    {
     "name": "stdout",
     "output_type": "stream",
     "text": [
      "[0.85764318 0.14235682] [ 0.83466977 -0.55075073] [0.55075073 0.83466977]\n"
     ]
    }
   ],
   "source": [
    "eigenvalues,(eigenvector1, eigenvector2)= np.linalg.eig(rho2)\n",
    "print(eigenvalues, eigenvector1, eigenvector2)\n",
    "eigenvector1 = np.array([0.83466977, 0.55075073])"
   ]
  },
  {
   "cell_type": "code",
   "execution_count": 39,
   "metadata": {},
   "outputs": [
    {
     "data": {
      "text/plain": [
       "array([0.71584884, 0.47234761])"
      ]
     },
     "execution_count": 39,
     "metadata": {},
     "output_type": "execute_result"
    }
   ],
   "source": [
    "eigenvector1.dot(rho2)"
   ]
  },
  {
   "cell_type": "code",
   "execution_count": 40,
   "metadata": {},
   "outputs": [
    {
     "data": {
      "text/plain": [
       "array([0.71584884, 0.47234761])"
      ]
     },
     "execution_count": 40,
     "metadata": {},
     "output_type": "execute_result"
    }
   ],
   "source": [
    "eigenvector1 * eigenvalues[0]"
   ]
  },
  {
   "cell_type": "code",
   "execution_count": 18,
   "metadata": {},
   "outputs": [],
   "source": [
    "NUM_QUBITS = 3\n",
    "NUM_ITERATION = 1000\n",
    "ACCURACY = 0.1\n",
    "SHOTS_PER_ITERATION = 8192\n",
    "backend = BasicAer.get_backend('qasm_simulator')\n",
    "\n",
    "state_vector = [ 1/np.sqrt(2), 1/np.sqrt(2)]\n",
    "iterate = True\n",
    "for i in range(0, 100):\n",
    "    quantum_circuit = QuantumCircuit(NUM_QUBITS, NUM_QUBITS)\n",
    "    quantum_circuit.initialize(state_vector, NUM_QUBITS-1)\n",
    "    quantum_circuit.h(0)\n",
    "    quantum_circuit.h(1)\n",
    "    (th1, ph1, lam1) = qiskit.quantum_info.synthesis.two_qubit_decompose.euler_angles_1q(expm(2*1j*np.pi*rho2))\n",
    "    quantum_circuit.cu3(th1, ph1, lam1, 1, 2)\n",
    "    (th2, ph2, lam2) = qiskit.quantum_info.synthesis.two_qubit_decompose.euler_angles_1q(expm(2*1j*np.pi*rho2*2))\n",
    "    quantum_circuit.cu3(th2, ph2, lam2, 0, 2)\n",
    "    quantum_circuit.h(0)\n",
    "    quantum_circuit.crz(-np.pi/2,0,1)\n",
    "    quantum_circuit.h(1)\n",
    "    quantum_circuit.measure([0,1,2],[0,1,2])\n",
    "    results = execute(quantum_circuit, backend=backend, shots=SHOTS_PER_ITERATION).result().get_counts()\n",
    "    denominator_result = results['111'] + results['011']\n",
    "    alpha1 = np.sqrt(results['011'] / denominator_result)\n",
    "    alpha2 = np.sqrt(results['111'] / denominator_result)\n",
    "    new_state = [alpha1, alpha2]\n",
    "    # check the acc \n",
    "    state_vector = new_state"
   ]
  },
  {
   "cell_type": "code",
   "execution_count": 19,
   "metadata": {},
   "outputs": [
    {
     "name": "stdout",
     "output_type": "stream",
     "text": [
      "[0.8407714027749386, 0.5413902920037097] [ 0.83466977 -0.55075073]\n"
     ]
    }
   ],
   "source": [
    "print(state_vector, eigenvector1)"
   ]
  },
  {
   "cell_type": "code",
   "execution_count": null,
   "metadata": {},
   "outputs": [],
   "source": []
  }
 ],
 "metadata": {
  "kernelspec": {
   "display_name": "Python 3",
   "language": "python",
   "name": "python3"
  },
  "language_info": {
   "codemirror_mode": {
    "name": "ipython",
    "version": 3
   },
   "file_extension": ".py",
   "mimetype": "text/x-python",
   "name": "python",
   "nbconvert_exporter": "python",
   "pygments_lexer": "ipython3",
   "version": "3.7.3"
  }
 },
 "nbformat": 4,
 "nbformat_minor": 2
}
