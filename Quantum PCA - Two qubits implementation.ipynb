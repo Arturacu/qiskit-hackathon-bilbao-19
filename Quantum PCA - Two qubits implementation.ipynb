{
 "cells": [
  {
   "cell_type": "markdown",
   "metadata": {},
   "source": [
    "$\\newcommand{\\ket}[1]{\\left|{#1}\\right\\rangle}\n",
    "\\newcommand{\\bra}[1]{\\left\\langle{#1}\\right|}$ \n",
    "# Quantum PCA to price financial derivates related to DAX index\n",
    "\n",
    "We will implement an effective [qPCA](https://arxiv.org/abs/1307.0401) algorithm to price financial derivites related to the [DAX German stock index](https://en.wikipedia.org/wiki/DAX) based on the paper [Towards Pricing Financial Derivatives with an IBM Quantum Computer](https://arxiv.org/pdf/1904.05803.pdf). The objective of this algorithm is to approximate a square matrix $M$ of dimension $n$ with a new $\\rho$ matrix which will have rank $r << n$, so we need to calculate efficiently the $r$ greatest eigenvalues of the original matrix $M$ as then $\\rho = \\sum_{i=1}^{r} \\lambda_{i} \\ket{u_{i}}{} \\bra{u_{i}}{}$ with $\\lambda_{i}$ being the eigenvalues.\n",
    "\n",
    "## Calculating the covariance matrix\n",
    "\n",
    "We first calculate the covariance matrix from the data related to the DAX, this is the matrix we want to reduce calculating its principal components. "
   ]
  },
  {
   "cell_type": "code",
   "execution_count": 127,
   "metadata": {},
   "outputs": [],
   "source": [
    "import pandas as pd\n",
    "\n",
    "url = \"https://raw.githubusercontent.com/ibonreinoso/qiskit-hackathon-bilbao-19/master/DAX_PERFORMANCE_INDEX.csv\"\n",
    "data = pd.read_csv(url, sep=';')\n",
    "data = data.drop(['wkn_500340'], axis = 1)\n",
    "data = data.loc[:,['wkn_515100', 'wkn_575200']]\n",
    "\n",
    "covariance_matrix = np.cov(data.values.T)"
   ]
  },
  {
   "cell_type": "code",
   "execution_count": 128,
   "metadata": {},
   "outputs": [
    {
     "name": "stdout",
     "output_type": "stream",
     "text": [
      "[[ 67.38376849  97.4907718 ]\n",
      " [ 97.4907718  152.27294829]]\n"
     ]
    }
   ],
   "source": [
    "print(covariance_matrix)"
   ]
  },
  {
   "cell_type": "markdown",
   "metadata": {},
   "source": [
    "## Classical approach to the problem\n",
    "\n",
    "Once the covariance matrix $M$ has been obtained, in a classical PCA algorithm we will have to calculate the eigenvalues. This can be done by calculating the [characteristic polynomial](https://en.wikipedia.org/wiki/Characteristic_polynomial) as it follows:\n",
    "\n",
    "$$ P(\\lambda) = det(M - \\lambda Id) $$ \n",
    "\n",
    "Where the eigenvalues are the values $\\lambda$ such that $P(\\lambda) = 0$. The complexity of this operations are bounded by the complexity cost of computing a determinant of the covariance matrix. For our particular case, eigenvalues can be obtained classically as it follows:"
   ]
  },
  {
   "cell_type": "code",
   "execution_count": 129,
   "metadata": {},
   "outputs": [
    {
     "name": "stdout",
     "output_type": "stream",
     "text": [
      "[216.15800524   3.49871154]\n"
     ]
    }
   ],
   "source": [
    "# Calculate the characteristic polynomial of the covariance matrix\n",
    "polynomial = np.poly(covariance_matrix)\n",
    "# Calculate the roots of the polynomial which are the eigenvalues\n",
    "eigenvalues = np.roots(polynomial)\n",
    "\n",
    "print(eigenvalues)"
   ]
  },
  {
   "cell_type": "markdown",
   "metadata": {},
   "source": [
    "As you might have noticed, there is an eigenvalue $\\lambda_{max}$ which greater than the other and also $\\lambda_{max} = \\lambda_{1} >> \\lambda_{2}$. Note that this is important in order to carry out effectively a PCA. "
   ]
  },
  {
   "cell_type": "markdown",
   "metadata": {},
   "source": [
    "## First step into the quantum model: calculate a unitary matrix\n",
    "\n",
    "We could instead of calculating the determinant of the matrix, which is highly costly, use quantum computing to outperform the classical approach. To achieve this we will need to modify the covariance matrix so it is turned into an unitary matrix which fits as a quantum gate. This quantum gate will be used perform operations which will help us to obtain the eigenvalues. Later on we will represent the eigenvalues with qubits, so we need them to be in the range $[0,1]$. To achieve this, we will normalize the covariance matrix with respect to its trace (in a $N\\times N$ matrix the sum of all the eigenvalues equals the trace, so if we normalize with respect to its trace we will end up with eigenvalues falling in the range we wanted to). "
   ]
  },
  {
   "cell_type": "code",
   "execution_count": 132,
   "metadata": {},
   "outputs": [
    {
     "name": "stdout",
     "output_type": "stream",
     "text": [
      "[[0.30676853 0.44383242]\n",
      " [0.44383242 0.69323147]]\n"
     ]
    }
   ],
   "source": [
    "trace_normalize_matrix = covariance_matrix /np.matrix.trace(covariance_matrix)\n",
    "\n",
    "print(trace_normalize_matrix)"
   ]
  },
  {
   "cell_type": "markdown",
   "metadata": {},
   "source": [
    "Now, we have to create an unitary matrix $U$ from our normalize matrix $N$. This can be done by just taking the complex exponential value of the matrix:\n",
    "\n",
    "$$ U = e^{2\\pi i N} $$\n"
   ]
  },
  {
   "cell_type": "code",
   "execution_count": 134,
   "metadata": {},
   "outputs": [
    {
     "name": "stdout",
     "output_type": "stream",
     "text": [
      "[[9.94996262e-01+0.03988286j 2.19878137e-16-0.09160674j]\n",
      " [2.24840803e-16-0.09160674j 9.94996262e-01-0.03988286j]]\n"
     ]
    }
   ],
   "source": [
    "from scipy.linalg import expm\n",
    "\n",
    "unitary = expm(2*1j*np.pi*trace_normalize_matrix)\n",
    "\n",
    "print(unitary)"
   ]
  },
  {
   "cell_type": "markdown",
   "metadata": {},
   "source": [
    "## Eigenvectors and eigenvalues \n",
    "\n",
    "As when using PCA we assume that there is an eigenvalue $\\lambda_{max} = \\lambda_{1} >> \\lambda_{2}$ then we can use a number of qubits to approximate the value of this eigenvalues. In this notebook we will focus on the implementation with just two qubits, but further investigation on how to generalize this model could be carried out. We will initialize a qubit in a random state and try to change its value until it reaches the value of the eigenvector which corresponds to the eigenvalue $\\lambda_{max}$. So, the initial state of the vector will be:\n",
    "\n",
    "$$ \\ket{b} = \\frac{\\ket{0}{} + \\ket{1}{}}{\\sqrt{2}} $$\n",
    "\n",
    "If the value of $\\ket{b}$ was the actual eigenvector of the eigenvalue $\\lambda_{max}$ we are over, but it is not. Nevertheless, we can use the [Quantum Amplitude Estimation](https://arxiv.org/abs/quant-ph/0005055) to estimate the eigenvector of the matrix $U$. Once this calculation has been performed the data can be retrived by using the [Quantum Fourier Transform](https://en.wikipedia.org/wiki/Quantum_Fourier_transform). This process can be repited in order to obtain a more precise value of the eigenvalue. Here we present this approach step by step:"
   ]
  },
  {
   "cell_type": "code",
   "execution_count": 143,
   "metadata": {},
   "outputs": [
    {
     "data": {
      "image/png": "[encoded data removed]",
      "text/plain": [
       "<Figure size 878.92x264.88 with 1 Axes>"
      ]
     },
     "execution_count": 143,
     "metadata": {},
     "output_type": "execute_result"
    }
   ],
   "source": [
    "# We will draw the first iteration circuit:\n",
    "from qiskit import *\n",
    "\n",
    "num_qubits_eigenvalue = 2\n",
    "num_qubits_eigenvector = 1\n",
    "num_qubits = num_qubits_eigenvalue + num_qubits_eigenvector\n",
    "\n",
    "quantum_circuit = QuantumCircuit(num_qubits, num_qubits)\n",
    "\n",
    "# Create the random state for |b>\n",
    "quantum_circuit.h(2)\n",
    "quantum_circuit.barrier()\n",
    "\n",
    "\n",
    "# We perform quantum amplitude estimation with the unitary matrix U\n",
    "quantum_circuit.h(0)\n",
    "quantum_circuit.h(1)\n",
    "# Calculate the gate which relates to the unitary matrix \n",
    "(th1, ph1, lam1) = qiskit.quantum_info.synthesis.two_qubit_decompose.euler_angles_1q(expm(2*1j*np.pi*rho2))\n",
    "quantum_circuit.cu3(th1, ph1, lam1, 1, 2)\n",
    "# Calculate the gate which relates to the unitary matrix applied two times, which is necessary for Quantum Amplitude Estimation\n",
    "(th2, ph2, lam2) = qiskit.quantum_info.synthesis.two_qubit_decompose.euler_angles_1q(expm(2*1j*np.pi*rho2*2))\n",
    "quantum_circuit.cu3(th2, ph2, lam2, 0, 2)\n",
    "quantum_circuit.barrier()\n",
    "\n",
    "# Now we perform the quantum fourier transform in the first two qubits\n",
    "quantum_circuit.h(0)\n",
    "quantum_circuit.crz(-np.pi/2,0,1)\n",
    "quantum_circuit.h(1)\n",
    "quantum_circuit.barrier()\n",
    "\n",
    "quantum_circuit.draw(output = 'mpl')"
   ]
  },
  {
   "cell_type": "markdown",
   "metadata": {},
   "source": [
    "## A deep look at the iterative process\n",
    "\n",
    "After the Quantum Fourier Transformation is performed, the state of the whole system will be (it is remarkable that this state depends on the initial random state $\\ket{b}$ so we explicitly denote it):\n",
    "\n",
    "$$ \\ket{\\Phi_{b}} = \\sum_{i=0}^{3} \\frac{1}{\\sqrt{2}} \\ket{\\lambda_{i}} \\otimes \\ket{u_{i}} $$\n",
    "\n",
    "We obtain a state where eigenvectors and eigenvalues are entangled. So, if one of the eigenvalues is greater than the other, then by projecting in the related eigenvalue based component of the state $\\ket{\\Phi_{b}}$ one can efficiently obtain the value of the eigenvector. In order to do it, we now perform a measurement and calculate the data projected to the state $\\ket{11}$ which corresponds surely to the highest eigenvalue.\n",
    "\n",
    "After the first iteration results are showed below:"
   ]
  },
  {
   "cell_type": "code",
   "execution_count": 145,
   "metadata": {},
   "outputs": [
    {
     "name": "stdout",
     "output_type": "stream",
     "text": [
      "0.9354143466934853 0.3535533905932738\n"
     ]
    }
   ],
   "source": [
    "# We perform some measurements on the circuit\n",
    "quantum_circuit.measure([0,1,2],[0,1,2])\n",
    "\n",
    "# Let execute the circuit on the quantum simulator\n",
    "results = execute(quantum_circuit, backend=BasicAer.get_backend('qasm_simulator'), shots=1024).result().get_counts()\n",
    "\n",
    "# Count the states related to the 11 projection\n",
    "denominator_result = results['111'] + results['011']\n",
    "\n",
    "# Calculate the coefficient of the eigenvector \n",
    "alpha1 = np.sqrt(results['011'] / denominator_result)\n",
    "alpha2 = np.sqrt(results['111'] / denominator_result)\n",
    "\n",
    "# Eigenvector coefficents are showed\n",
    "print(alpha1, alpha2)"
   ]
  },
  {
   "cell_type": "markdown",
   "metadata": {},
   "source": [
    "## A complete implementation of the qPCA\n",
    "\n",
    "We are now able to implement the Quantum Principal Component Analysis algorithm by taking the value calculated at each iteration and reusing it as the initial quantum state of the random vector $\\ket{b}$:\n"
   ]
  },
  {
   "cell_type": "code",
   "execution_count": 146,
   "metadata": {},
   "outputs": [],
   "source": [
    "# We initialize the random vector b to H|0> = 1/sqrt(2) * (|0> + |1>) \n",
    "state_vector = [1/np.sqrt(2), 1/np.sqrt(2)]\n",
    "\n",
    "# We establish a limit to the number of iteration and a bound to the accuracy\n",
    "limit_iteration = 100\n",
    "\n",
    "for i in range(0, 100):\n",
    "    quantum_circuit = QuantumCircuit(NUM_QUBITS, NUM_QUBITS)\n",
    "    quantum_circuit.initialize(state_vector, NUM_QUBITS-1)\n",
    "    quantum_circuit.h(0)\n",
    "    quantum_circuit.h(1)\n",
    "    (th1, ph1, lam1) = qiskit.quantum_info.synthesis.two_qubit_decompose.euler_angles_1q(expm(2*1j*np.pi*rho2))\n",
    "    quantum_circuit.cu3(th1, ph1, lam1, 1, 2)\n",
    "    (th2, ph2, lam2) = qiskit.quantum_info.synthesis.two_qubit_decompose.euler_angles_1q(expm(2*1j*np.pi*rho2*2))\n",
    "    quantum_circuit.cu3(th2, ph2, lam2, 0, 2)\n",
    "    quantum_circuit.h(0)\n",
    "    quantum_circuit.crz(-np.pi/2,0,1)\n",
    "    quantum_circuit.h(1)\n",
    "    quantum_circuit.measure([0,1,2],[0,1,2])\n",
    "    results = execute(quantum_circuit, backend=backend, shots=SHOTS_PER_ITERATION).result().get_counts()\n",
    "    denominator_result = results['111'] + results['011']\n",
    "    alpha1 = np.sqrt(results['011'] / denominator_result)\n",
    "    alpha2 = np.sqrt(results['111'] / denominator_result)\n",
    "    new_state = [alpha1, alpha2]\n",
    "    state_vector = new_state\n"
   ]
  }
 ],
 "metadata": {
  "kernelspec": {
   "display_name": "Python 3",
   "language": "python",
   "name": "python3"
  },
  "language_info": {
   "codemirror_mode": {
    "name": "ipython",
    "version": 3
   },
   "file_extension": ".py",
   "mimetype": "text/x-python",
   "name": "python",
   "nbconvert_exporter": "python",
   "pygments_lexer": "ipython3",
   "version": "3.7.3"
  }
 },
 "nbformat": 4,
 "nbformat_minor": 2
}
