{
 "cells": [
  {
   "cell_type": "code",
   "execution_count": 44,
   "metadata": {},
   "outputs": [],
   "source": [
    "import numpy as np\n",
    "from scipy.linalg import expm\n",
    "from qiskit import *\n",
    "import pandas as pd"
   ]
  },
  {
   "cell_type": "code",
   "execution_count": 52,
   "metadata": {},
   "outputs": [],
   "source": [
    "url = \"https://raw.githubusercontent.com/ibonreinoso/qiskit-hackathon-bilbao-19/master/DAX_PERFORMANCE_INDEX.csv\"\n",
    "data = pd.read_csv(url, sep=';')"
   ]
  },
  {
   "cell_type": "code",
   "execution_count": 53,
   "metadata": {},
   "outputs": [
    {
     "name": "stdout",
     "output_type": "stream",
     "text": [
      "      wkn_515100  wkn_575200\n",
      "0         21.450       22.67\n",
      "1         21.780       23.35\n",
      "2         21.750       23.37\n",
      "3         22.240       23.69\n",
      "4         22.290       23.70\n",
      "5         22.025       23.70\n",
      "6         21.900       23.60\n",
      "7         21.935       23.45\n",
      "8         21.975       23.36\n",
      "9         21.675       23.05\n",
      "10        21.925       22.93\n",
      "11        22.025       22.98\n",
      "12        21.950       22.85\n",
      "13        21.900       22.61\n",
      "14        21.950       22.62\n",
      "15        22.000       22.52\n",
      "16        21.950       22.35\n",
      "17        21.935       22.21\n",
      "18        21.775       21.85\n",
      "19        21.825       22.20\n",
      "20        21.950       22.20\n",
      "21        21.575       21.80\n",
      "22        21.550       21.58\n",
      "23        21.275       21.30\n",
      "24        21.600       21.48\n",
      "25        21.625       21.21\n",
      "26        22.095       21.94\n",
      "27        22.100       22.08\n",
      "28        22.035       21.98\n",
      "29        22.225       22.00\n",
      "...          ...         ...\n",
      "1077      39.390       53.94\n",
      "1078      39.470       54.51\n",
      "1079      39.900       55.38\n",
      "1080      39.820       54.50\n",
      "1081      39.180       53.22\n",
      "1082      38.360       52.63\n",
      "1083      38.560       52.66\n",
      "1084      37.610       53.27\n",
      "1085      37.360       53.94\n",
      "1086      37.610       53.56\n",
      "1087      38.020       54.36\n",
      "1088      36.390       55.54\n",
      "1089      35.710       55.92\n",
      "1090      33.800       54.05\n",
      "1091      32.990       54.23\n",
      "1092      35.090       57.50\n",
      "1093      34.430       54.02\n",
      "1094      34.320       54.56\n",
      "1095      34.640       54.15\n",
      "1096      35.620       54.65\n",
      "1097      35.200       53.62\n",
      "1098      33.720       52.00\n",
      "1099      34.170       51.92\n",
      "1100      33.920       52.49\n",
      "1101      32.380       49.56\n",
      "1102      33.340       51.37\n",
      "1103      31.460       49.31\n",
      "1104      30.520       49.32\n",
      "1105      28.790       45.90\n",
      "1106      28.510       44.55\n",
      "\n",
      "[1107 rows x 2 columns]\n"
     ]
    }
   ],
   "source": [
    "data = data.drop(['wkn_500340'], axis = 1)\n",
    "data = data.loc[:,['wkn_515100', 'wkn_575200']]\n",
    "print(data)"
   ]
  },
  {
   "cell_type": "code",
   "execution_count": 66,
   "metadata": {},
   "outputs": [
    {
     "name": "stdout",
     "output_type": "stream",
     "text": [
      "[[0.30676853 0.44383242]\n",
      " [0.44383242 0.69323147]]\n"
     ]
    }
   ],
   "source": [
    "sigma2 = np.cov(data.values.T)\n",
    "rho2 = sigma2 /np.matrix.trace(sigma2)\n",
    "print(rho2)"
   ]
  },
  {
   "cell_type": "code",
   "execution_count": 72,
   "metadata": {},
   "outputs": [
    {
     "ename": "TypeError",
     "evalue": "cannot unpack non-iterable numpy.float64 object",
     "output_type": "error",
     "traceback": [
      "\u001b[1;31m---------------------------------------------------------------------------\u001b[0m",
      "\u001b[1;31mTypeError\u001b[0m                                 Traceback (most recent call last)",
      "\u001b[1;32m<ipython-input-72-e468a3df5a8f>\u001b[0m in \u001b[0;36m<module>\u001b[1;34m\u001b[0m\n\u001b[1;32m----> 1\u001b[1;33m \u001b[0meigenvalues\u001b[0m\u001b[1;33m,\u001b[0m\u001b[1;33m(\u001b[0m\u001b[0meigenvector1\u001b[0m\u001b[1;33m,\u001b[0m \u001b[0meigenvector2\u001b[0m\u001b[1;33m)\u001b[0m\u001b[1;33m=\u001b[0m \u001b[0mnp\u001b[0m\u001b[1;33m.\u001b[0m\u001b[0mlinalg\u001b[0m\u001b[1;33m.\u001b[0m\u001b[0meigvalsh\u001b[0m\u001b[1;33m(\u001b[0m\u001b[0mrho2\u001b[0m\u001b[1;33m)\u001b[0m\u001b[1;33m\u001b[0m\u001b[1;33m\u001b[0m\u001b[0m\n\u001b[0m\u001b[0;32m      2\u001b[0m \u001b[0mprint\u001b[0m\u001b[1;33m(\u001b[0m\u001b[0meigenvalues\u001b[0m\u001b[1;33m,\u001b[0m \u001b[0meigenvector1\u001b[0m\u001b[1;33m,\u001b[0m \u001b[0meigenvector2\u001b[0m\u001b[1;33m)\u001b[0m\u001b[1;33m\u001b[0m\u001b[1;33m\u001b[0m\u001b[0m\n\u001b[0;32m      3\u001b[0m \u001b[0meigenvector1\u001b[0m \u001b[1;33m=\u001b[0m \u001b[0mnp\u001b[0m\u001b[1;33m.\u001b[0m\u001b[0marray\u001b[0m\u001b[1;33m(\u001b[0m\u001b[1;33m[\u001b[0m\u001b[1;36m0.83466977\u001b[0m\u001b[1;33m,\u001b[0m \u001b[1;36m0.55075073\u001b[0m\u001b[1;33m]\u001b[0m\u001b[1;33m)\u001b[0m\u001b[1;33m\u001b[0m\u001b[1;33m\u001b[0m\u001b[0m\n",
      "\u001b[1;31mTypeError\u001b[0m: cannot unpack non-iterable numpy.float64 object"
     ]
    }
   ],
   "source": [
    "eigenvalues,(eigenvector1, eigenvector2)= np.linalg.eigvalsh(rho2)\n",
    "print(eigenvalues, eigenvector1, eigenvector2)\n"
   ]
  },
  {
   "cell_type": "code",
   "execution_count": 68,
   "metadata": {},
   "outputs": [
    {
     "data": {
      "text/plain": [
       "array([0.50049145, 0.75225124])"
      ]
     },
     "execution_count": 68,
     "metadata": {},
     "output_type": "execute_result"
    }
   ],
   "source": [
    "eigenvector1.dot(rho2)"
   ]
  },
  {
   "cell_type": "code",
   "execution_count": 69,
   "metadata": {},
   "outputs": [
    {
     "data": {
      "text/plain": [
       "array([0.01329469, 0.00877241])"
      ]
     },
     "execution_count": 69,
     "metadata": {},
     "output_type": "execute_result"
    }
   ],
   "source": [
    "eigenvector1 * eigenvalues[0]"
   ]
  },
  {
   "cell_type": "code",
   "execution_count": 70,
   "metadata": {},
   "outputs": [],
   "source": [
    "NUM_QUBITS = 3\n",
    "NUM_ITERATION = 1000\n",
    "ACCURACY = 0.1\n",
    "SHOTS_PER_ITERATION = 8192\n",
    "backend = BasicAer.get_backend('qasm_simulator')\n",
    "\n",
    "state_vector = [ 1/np.sqrt(2), 1/np.sqrt(2)]\n",
    "iterate = True\n",
    "for i in range(0, 100):\n",
    "    quantum_circuit = QuantumCircuit(NUM_QUBITS, NUM_QUBITS)\n",
    "    quantum_circuit.initialize(state_vector, NUM_QUBITS-1)\n",
    "    quantum_circuit.h(0)\n",
    "    quantum_circuit.h(1)\n",
    "    (th1, ph1, lam1) = qiskit.quantum_info.synthesis.two_qubit_decompose.euler_angles_1q(expm(2*1j*np.pi*rho2))\n",
    "    quantum_circuit.cu3(th1, ph1, lam1, 1, 2)\n",
    "    (th2, ph2, lam2) = qiskit.quantum_info.synthesis.two_qubit_decompose.euler_angles_1q(expm(2*1j*np.pi*rho2*2))\n",
    "    quantum_circuit.cu3(th2, ph2, lam2, 0, 2)\n",
    "    quantum_circuit.h(0)\n",
    "    quantum_circuit.crz(-np.pi/2,0,1)\n",
    "    quantum_circuit.h(1)\n",
    "    quantum_circuit.measure([0,1,2],[0,1,2])\n",
    "    results = execute(quantum_circuit, backend=backend, shots=SHOTS_PER_ITERATION).result().get_counts()\n",
    "    denominator_result = results['111'] + results['011']\n",
    "    alpha1 = np.sqrt(results['011'] / denominator_result)\n",
    "    alpha2 = np.sqrt(results['111'] / denominator_result)\n",
    "    new_state = [alpha1, alpha2]\n",
    "    # check the acc \n",
    "    state_vector = new_state"
   ]
  },
  {
   "cell_type": "code",
   "execution_count": 71,
   "metadata": {},
   "outputs": [
    {
     "name": "stdout",
     "output_type": "stream",
     "text": [
      "[0.5645186610567614, 0.825420305855557] [0.83466977 0.55075073]\n"
     ]
    }
   ],
   "source": [
    "print(state_vector, eigenvector1)"
   ]
  },
  {
   "cell_type": "code",
   "execution_count": null,
   "metadata": {},
   "outputs": [],
   "source": []
  }
 ],
 "metadata": {
  "kernelspec": {
   "display_name": "Python 3",
   "language": "python",
   "name": "python3"
  },
  "language_info": {
   "codemirror_mode": {
    "name": "ipython",
    "version": 3
   },
   "file_extension": ".py",
   "mimetype": "text/x-python",
   "name": "python",
   "nbconvert_exporter": "python",
   "pygments_lexer": "ipython3",
   "version": "3.7.3"
  }
 },
 "nbformat": 4,
 "nbformat_minor": 2
}
