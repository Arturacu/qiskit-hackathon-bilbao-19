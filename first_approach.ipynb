{
 "cells": [
  {
   "cell_type": "code",
   "execution_count": 17,
   "metadata": {},
   "outputs": [],
   "source": [
    "import numpy as np\n",
    "from scipy.linalg import expm\n",
    "from qiskit import *"
   ]
  },
  {
   "cell_type": "markdown",
   "metadata": {},
   "source": [
    "$\\newcommand{\\ket}[1]{\\left|{#1}\\right\\rangle}\n",
    "\\newcommand{\\bra}[1]{\\left\\langle{#1}\\right|}$ \n",
    "\n",
    "# 1) Density Matrix - Covariance Matrix\n",
    "\n",
    "We are given a matrix $\\sigma_{2} = \\begin{pmatrix} \\alpha_{1} && \\alpha \\\\ \\alpha && \\alpha_{2} \\end{pmatrix}$ and we normalize it respect to its trace: \n",
    "\n",
    "$$ \\rho_{2} = \\frac{\\sigma_{2}}{tr(\\sigma_{2})} = \\begin{pmatrix} \\frac{\\alpha_{1}}{\\alpha_{1}+\\alpha_{2}} && \\frac{\\alpha}{\\alpha_{1}+\\alpha_{2}} \\\\ \\frac{\\alpha}{\\alpha_{1}+\\alpha_{2}} && \\frac{\\alpha_{2}}{\\alpha_{1}+\\alpha_{2}} \\end{pmatrix} $$"
   ]
  },
  {
   "cell_type": "code",
   "execution_count": 6,
   "metadata": {},
   "outputs": [],
   "source": [
    "sigma2 = np.array([(1.89,0.97), (0.97, 1.06)])\n",
    "rho2 = sigma2 /np.matrix.trace(sigma2)"
   ]
  },
  {
   "cell_type": "markdown",
   "metadata": {},
   "source": [
    "We now calculate with numpy the eigenvalues and the eigenvectors using a classical algorithm:"
   ]
  },
  {
   "cell_type": "code",
   "execution_count": 10,
   "metadata": {},
   "outputs": [],
   "source": [
    "eigenvalues,(eigenvector1, eigenvector2)= np.linalg.eig(rho2)"
   ]
  },
  {
   "cell_type": "code",
   "execution_count": 13,
   "metadata": {},
   "outputs": [
    {
     "name": "stdout",
     "output_type": "stream",
     "text": [
      "[0.85764318 0.14235682]\n"
     ]
    }
   ],
   "source": [
    "print(eigenvalues)"
   ]
  },
  {
   "cell_type": "markdown",
   "metadata": {},
   "source": [
    "# 2) Calculate the unitary matrix gate\n",
    "\n",
    "We know that the matrix could be turn into a unitary matrix by taking the exponential imaginary:\n",
    "\n",
    "$$ U_{\\rho_{2}} = e^{2\\pi i \\rho_{2}} $$ "
   ]
  },
  {
   "cell_type": "code",
   "execution_count": 22,
   "metadata": {},
   "outputs": [],
   "source": [
    "unitary_matrix = expm(2*1j*np.pi*rho2)"
   ]
  },
  {
   "cell_type": "code",
   "execution_count": 23,
   "metadata": {},
   "outputs": [
    {
     "name": "stdout",
     "output_type": "stream",
     "text": [
      "[[ 6.25944518e-01-0.30675878j -4.26408010e-16-0.71700245j]\n",
      " [-4.90557316e-16-0.71700245j  6.25944518e-01+0.30675878j]]\n"
     ]
    }
   ],
   "source": [
    "print(unitary_matrix)"
   ]
  },
  {
   "cell_type": "code",
   "execution_count": null,
   "metadata": {},
   "outputs": [],
   "source": []
  }
 ],
 "metadata": {
  "kernelspec": {
   "display_name": "Python 3",
   "language": "python",
   "name": "python3"
  },
  "language_info": {
   "codemirror_mode": {
    "name": "ipython",
    "version": 3
   },
   "file_extension": ".py",
   "mimetype": "text/x-python",
   "name": "python",
   "nbconvert_exporter": "python",
   "pygments_lexer": "ipython3",
   "version": "3.7.3"
  }
 },
 "nbformat": 4,
 "nbformat_minor": 2
}
