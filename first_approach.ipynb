{
 "cells": [
  {
   "cell_type": "code",
   "execution_count": 17,
   "metadata": {},
   "outputs": [],
   "source": [
    "import numpy as np\n",
    "from scipy.linalg import expm\n",
    "from qiskit import *"
   ]
  },
  {
   "cell_type": "markdown",
   "metadata": {},
   "source": [
    "$\\newcommand{\\ket}[1]{\\left|{#1}\\right\\rangle}\n",
    "\\newcommand{\\bra}[1]{\\left\\langle{#1}\\right|}$ \n",
    "\n",
    "# 1) Density Matrix - Covariance Matrix\n",
    "\n",
    "We are given a matrix $\\sigma_{2} = \\begin{pmatrix} \\alpha_{1} && \\alpha \\\\ \\alpha && \\alpha_{2} \\end{pmatrix}$ and we normalize it respect to its trace: \n",
    "\n",
    "$$ \\rho_{2} = \\frac{\\sigma_{2}}{tr(\\sigma_{2})} = \\begin{pmatrix} \\frac{\\alpha_{1}}{\\alpha_{1}+\\alpha_{2}} && \\frac{\\alpha}{\\alpha_{1}+\\alpha_{2}} \\\\ \\frac{\\alpha}{\\alpha_{1}+\\alpha_{2}} && \\frac{\\alpha_{2}}{\\alpha_{1}+\\alpha_{2}} \\end{pmatrix} $$"
   ]
  },
  {
   "cell_type": "code",
   "execution_count": 6,
   "metadata": {},
   "outputs": [],
   "source": [
    "sigma2 = np.array([(1.89,0.97), (0.97, 1.06)])\n",
    "rho2 = sigma2 /np.matrix.trace(sigma2)"
   ]
  },
  {
   "cell_type": "markdown",
   "metadata": {},
   "source": [
    "We now calculate with numpy the eigenvalues and the eigenvectors using a classical algorithm:"
   ]
  },
  {
   "cell_type": "code",
   "execution_count": 10,
   "metadata": {},
   "outputs": [],
   "source": [
    "eigenvalues,(eigenvector1, eigenvector2)= np.linalg.eig(rho2)"
   ]
  },
  {
   "cell_type": "code",
   "execution_count": 13,
   "metadata": {},
   "outputs": [
    {
     "name": "stdout",
     "output_type": "stream",
     "text": [
      "[0.85764318 0.14235682]\n"
     ]
    }
   ],
   "source": [
    "print(eigenvalues)"
   ]
  },
  {
   "cell_type": "markdown",
   "metadata": {},
   "source": [
    "# 2) Calculate the unitary matrix gate\n",
    "\n",
    "We know that the matrix could be turn into a unitary matrix by taking the exponential imaginary:\n",
    "\n",
    "$$ U_{\\rho_{2}} = e^{2\\pi i \\rho_{2}} $$ "
   ]
  },
  {
   "cell_type": "code",
   "execution_count": 22,
   "metadata": {},
   "outputs": [],
   "source": [
    "unitary_matrix = expm(2*1j*np.pi*rho2)"
   ]
  },
  {
   "cell_type": "code",
   "execution_count": 23,
   "metadata": {},
   "outputs": [
    {
     "name": "stdout",
     "output_type": "stream",
     "text": [
      "[[ 6.25944518e-01-0.30675878j -4.26408010e-16-0.71700245j]\n",
      " [-4.90557316e-16-0.71700245j  6.25944518e-01+0.30675878j]]\n"
     ]
    }
   ],
   "source": [
    "print(unitary_matrix)"
   ]
  },
  {
   "cell_type": "markdown",
   "metadata": {},
   "source": [
    "# 3) Building the quantum circuit"
   ]
  },
  {
   "cell_type": "markdown",
   "metadata": {},
   "source": [
    "We will use two qubits to calculate the eigenvalue and one for the eigenvector. The eigenvector will be initalized as random vector (concretely we applied the Hadamard gate to the state $\\ket{0}{}$ so the state will be $H\\ket{0}{}$):\n"
   ]
  },
  {
   "cell_type": "code",
   "execution_count": 75,
   "metadata": {},
   "outputs": [],
   "source": [
    "num_qubits = 3\n",
    "quantum_circuit = QuantumCircuit(num_qubits, num_qubits)\n",
    "initial_state_vector = [ 1/np.sqrt(2), 1/np.sqrt(2)]\n",
    "quantum_circuit.initialize(initial_state_vector, num_qubits-1);"
   ]
  },
  {
   "cell_type": "code",
   "execution_count": 76,
   "metadata": {},
   "outputs": [],
   "source": [
    "quantum_circuit.h(0)\n",
    "quantum_circuit.h(1);"
   ]
  },
  {
   "cell_type": "code",
   "execution_count": 77,
   "metadata": {},
   "outputs": [
    {
     "data": {
      "image/png": "[encoded data removed]",
      "text/plain": [
       "<Figure size 517.72x264.88 with 1 Axes>"
      ]
     },
     "execution_count": 77,
     "metadata": {},
     "output_type": "execute_result"
    }
   ],
   "source": [
    "(th1, ph1, lam1) = qiskit.quantum_info.synthesis.two_qubit_decompose.euler_angles_1q(unitary_matrix)\n",
    "quantum_circuit.cu3(th1, ph1, lam1, 1, 2)\n",
    "\n",
    "(th2, ph2, lam2) = qiskit.quantum_info.synthesis.two_qubit_decompose.euler_angles_1q(expm(2*1j*np.pi*rho2*2))\n",
    "quantum_circuit.cu3(th2, ph2, lam2, 0, 2)\n",
    "\n",
    "quantum_circuit.draw(output='mpl')"
   ]
  },
  {
   "cell_type": "code",
   "execution_count": 79,
   "metadata": {},
   "outputs": [
    {
     "ename": "AttributeError",
     "evalue": "'QuantumCircuit' object has no attribute 'appendGate'",
     "output_type": "error",
     "traceback": [
      "\u001b[1;31m---------------------------------------------------------------------------\u001b[0m",
      "\u001b[1;31mAttributeError\u001b[0m                            Traceback (most recent call last)",
      "\u001b[1;32m<ipython-input-79-e9654525589a>\u001b[0m in \u001b[0;36m<module>\u001b[1;34m\u001b[0m\n\u001b[1;32m----> 1\u001b[1;33m \u001b[0mquantum_circuit\u001b[0m\u001b[1;33m.\u001b[0m\u001b[0mappendGate\u001b[0m\u001b[1;33m(\u001b[0m\u001b[1;34m\"csdg\"\u001b[0m\u001b[1;33m,\u001b[0m \u001b[1;33m[\u001b[0m\u001b[1;36m0\u001b[0m\u001b[1;33m,\u001b[0m\u001b[1;36m1\u001b[0m\u001b[1;33m]\u001b[0m\u001b[1;33m)\u001b[0m\u001b[1;33m\u001b[0m\u001b[1;33m\u001b[0m\u001b[0m\n\u001b[0m",
      "\u001b[1;31mAttributeError\u001b[0m: 'QuantumCircuit' object has no attribute 'appendGate'"
     ]
    }
   ],
   "source": [
    "quantum_circuit.appendGate(\"csdg\", [0,1])\n",
    "\n",
    "Control S dagger\n"
   ]
  },
  {
   "cell_type": "code",
   "execution_count": null,
   "metadata": {},
   "outputs": [],
   "source": []
  }
 ],
 "metadata": {
  "kernelspec": {
   "display_name": "Python 3",
   "language": "python",
   "name": "python3"
  },
  "language_info": {
   "codemirror_mode": {
    "name": "ipython",
    "version": 3
   },
   "file_extension": ".py",
   "mimetype": "text/x-python",
   "name": "python",
   "nbconvert_exporter": "python",
   "pygments_lexer": "ipython3",
   "version": "3.7.3"
  }
 },
 "nbformat": 4,
 "nbformat_minor": 2
}
